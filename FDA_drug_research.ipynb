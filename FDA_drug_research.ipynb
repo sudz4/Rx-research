{
 "cells": [
  {
   "attachments": {},
   "cell_type": "markdown",
   "metadata": {},
   "source": [
    "| FDA Drug Research | General API Testing and Drug Research \n",
    "| ----------- | ----------- |"
   ]
  },
  {
   "cell_type": "code",
   "execution_count": 2,
   "metadata": {},
   "outputs": [],
   "source": [
    "# libraries\n",
    "import requests\n",
    "from bs4 import BeautifulSoup\n",
    "import pandas as pd"
   ]
  },
  {
   "cell_type": "code",
   "execution_count": 11,
   "metadata": {},
   "outputs": [
    {
     "data": {
      "text/html": [
       "<div>\n",
       "<style scoped>\n",
       "    .dataframe tbody tr th:only-of-type {\n",
       "        vertical-align: middle;\n",
       "    }\n",
       "\n",
       "    .dataframe tbody tr th {\n",
       "        vertical-align: top;\n",
       "    }\n",
       "\n",
       "    .dataframe thead th {\n",
       "        text-align: right;\n",
       "    }\n",
       "</style>\n",
       "<table border=\"1\" class=\"dataframe\">\n",
       "  <thead>\n",
       "    <tr style=\"text-align: right;\">\n",
       "      <th></th>\n",
       "      <th>product_ndc</th>\n",
       "      <th>proprietary_name</th>\n",
       "      <th>nonproprietary_name</th>\n",
       "      <th>dosage_form</th>\n",
       "      <th>route</th>\n",
       "      <th>package_description</th>\n",
       "      <th>generic_name</th>\n",
       "    </tr>\n",
       "  </thead>\n",
       "  <tbody>\n",
       "    <tr>\n",
       "      <th>0</th>\n",
       "      <td>0904-7117</td>\n",
       "      <td>NaN</td>\n",
       "      <td>NaN</td>\n",
       "      <td>SOLUTION</td>\n",
       "      <td>[ORAL]</td>\n",
       "      <td>NaN</td>\n",
       "      <td>Diazepam</td>\n",
       "    </tr>\n",
       "  </tbody>\n",
       "</table>\n",
       "</div>"
      ],
      "text/plain": [
       "  product_ndc  proprietary_name  nonproprietary_name dosage_form   route  \\\n",
       "0   0904-7117               NaN                  NaN    SOLUTION  [ORAL]   \n",
       "\n",
       "   package_description generic_name  \n",
       "0                  NaN     Diazepam  "
      ]
     },
     "metadata": {},
     "output_type": "display_data"
    }
   ],
   "source": [
    "# store url as var\n",
    "url = 'https://api.fda.gov/drug/ndc.json?search=dea_schedule:\"CIV\"&limit=5'\n",
    "\n",
    "# GET response\n",
    "response = requests.get(url)\n",
    "\n",
    "if response.status_code == 200:\n",
    "    results = response.json()\n",
    "    drugs = results['results']\n",
    "    diazepam_drugs = [d for d in drugs if d['generic_name'] == 'Diazepam'] # not sure what this drug is but testing this API out\n",
    "    diazepam_df = pd.DataFrame(diazepam_drugs, columns=['product_ndc', 'proprietary_name', 'nonproprietary_name', 'dosage_form', 'route', 'package_description', 'generic_name'])\n",
    "    display(diazepam_df)\n",
    "else:\n",
    "    print('Error:', response.status_code)\n"
   ]
  },
  {
   "cell_type": "code",
   "execution_count": null,
   "metadata": {},
   "outputs": [],
   "source": []
  },
  {
   "attachments": {},
   "cell_type": "markdown",
   "metadata": {},
   "source": [
    "| END OF PROGRAM | \n",
    "| ----------- |"
   ]
  },
  {
   "cell_type": "code",
   "execution_count": null,
   "metadata": {},
   "outputs": [],
   "source": []
  }
 ],
 "metadata": {
  "kernelspec": {
   "display_name": "Rx_venv",
   "language": "python",
   "name": "python3"
  },
  "language_info": {
   "codemirror_mode": {
    "name": "ipython",
    "version": 3
   },
   "file_extension": ".py",
   "mimetype": "text/x-python",
   "name": "python",
   "nbconvert_exporter": "python",
   "pygments_lexer": "ipython3",
   "version": "3.11.1"
  },
  "orig_nbformat": 4,
  "vscode": {
   "interpreter": {
    "hash": "218912a62ed273a90d897b30325ba6604594cca0493f6276b8a5ff2d230eac31"
   }
  }
 },
 "nbformat": 4,
 "nbformat_minor": 2
}
